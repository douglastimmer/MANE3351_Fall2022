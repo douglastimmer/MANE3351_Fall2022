{
 "cells": [
  {
   "cell_type": "markdown",
   "metadata": {},
   "source": [
    "### September 29 Lecture\n",
    "\n"
   ]
  },
  {
   "cell_type": "code",
   "execution_count": 1,
   "metadata": {},
   "outputs": [
    {
     "name": "stdout",
     "output_type": "stream",
     "text": [
      "The area is -1.3333333333333333 after 1 iterations\n"
     ]
    }
   ],
   "source": [
    "import math\n",
    "def f(z):\n",
    "    return 1.0/(1.0-z)\n",
    "\n",
    "n=1\n",
    "\n",
    "a=2.0\n",
    "b=4.0\n",
    "h=(b-a)/n\n",
    "sum=0.5*(f(a)+f(b))\n",
    "for i in range(1,n):\n",
    "    x=a+i*h\n",
    "    sum=sum+f(x)\n",
    "sum=sum*h\n",
    "print(\"The area is {} after {} iterations\".format(sum,n))"
   ]
  },
  {
   "cell_type": "code",
   "execution_count": 2,
   "metadata": {},
   "outputs": [
    {
     "name": "stdout",
     "output_type": "stream",
     "text": [
      "The area is -1.1301587301587301 after 3 iterations\n"
     ]
    }
   ],
   "source": [
    "import math\n",
    "def f(z):\n",
    "    return 1.0/(1.0-z)\n",
    "\n",
    "n=3\n",
    "\n",
    "a=2.0\n",
    "b=4.0\n",
    "h=(b-a)/n\n",
    "sum=0.5*(f(a)+f(b))\n",
    "for i in range(1,n):\n",
    "    x=a+i*h\n",
    "    sum=sum+f(x)\n",
    "sum=sum*h\n",
    "print(\"The area is {} after {} iterations\".format(sum,n))"
   ]
  },
  {
   "cell_type": "code",
   "execution_count": null,
   "metadata": {},
   "outputs": [],
   "source": []
  }
 ],
 "metadata": {
  "kernelspec": {
   "display_name": "Python 3 (ipykernel)",
   "language": "python",
   "name": "python3"
  },
  "language_info": {
   "codemirror_mode": {
    "name": "ipython",
    "version": 3
   },
   "file_extension": ".py",
   "mimetype": "text/x-python",
   "name": "python",
   "nbconvert_exporter": "python",
   "pygments_lexer": "ipython3",
   "version": "3.9.12"
  }
 },
 "nbformat": 4,
 "nbformat_minor": 2
}
