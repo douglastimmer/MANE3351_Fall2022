{
 "cells": [
  {
   "cell_type": "markdown",
   "metadata": {},
   "source": [
    "### October 7 Lecture\n",
    "\n"
   ]
  },
  {
   "cell_type": "code",
   "execution_count": 3,
   "metadata": {},
   "outputs": [
    {
     "name": "stdout",
     "output_type": "stream",
     "text": [
      "Simpsons 1/3 rule, I=-0.11111111111111112\n"
     ]
    }
   ],
   "source": [
    "import math\n",
    "def f(z):\n",
    "    return 1.0/(1.0-z)\n",
    "\n",
    "a=2.0\n",
    "b=4.0\n",
    "\n",
    "h=(b-a)/2.0\n",
    "\n",
    "I=(h/3.0)*(f(2.0)+4.0*f(3.0)*f(4.0))\n",
    "\n",
    "print(\"Simpsons 1/3 rule, I={}\".format(I))"
   ]
  },
  {
   "cell_type": "code",
   "execution_count": 1,
   "metadata": {},
   "outputs": [
    {
     "name": "stdout",
     "output_type": "stream",
     "text": [
      "The area is -1.0999999999999999 after 4 iterations\n"
     ]
    }
   ],
   "source": [
    "import math\n",
    "def f(z):\n",
    "    return 1.0/(1.0-z)\n",
    "n=4\n",
    "a=2.0\n",
    "b=4.0\n",
    "h=(b-a)/n\n",
    "sum=f(a)+f(b)\n",
    "for i in range(1,n):\n",
    "   # print(i)\n",
    "    k=a+i*h\n",
    "    if i%2==0:\n",
    "        #print(\"even number\")\n",
    "        sum=sum+2.0*f(k)\n",
    "    else:\n",
    "        #print(\"odd number\")\n",
    "        sum=sum+4.0*f(k)\n",
    "sum=sum*h/3.0\n",
    "print(\"The area is {} after {} iterations\".format(sum,n))"
   ]
  },
  {
   "cell_type": "code",
   "execution_count": 4,
   "metadata": {},
   "outputs": [
    {
     "name": "stdout",
     "output_type": "stream",
     "text": [
      "Simpsons 3/8 rule (one interval), I=-1.1047619047619048\n"
     ]
    }
   ],
   "source": [
    "import math\n",
    "def f(z):\n",
    "    return 1.0/(1.0-z)\n",
    "\n",
    "a=2.0\n",
    "b=4.0\n",
    "\n",
    "h=(b-a)/3.0\n",
    "\n",
    "x0=a\n",
    "x1=a+h\n",
    "x2=a+2.0*h\n",
    "x3=a+3.0*h\n",
    "\n",
    "\n",
    "I=(3.0*h/8.0)*(f(x0)+3.0*f(x1)+3.0*f(x2)+f(x3))\n",
    "\n",
    "print(\"Simpsons 3/8 rule (one interval), I={}\".format(I))"
   ]
  },
  {
   "cell_type": "code",
   "execution_count": 6,
   "metadata": {},
   "outputs": [
    {
     "name": "stdout",
     "output_type": "stream",
     "text": [
      "Simpsons 3/8 rule (two intervals), -0.69375+-0.4055059523809524=-1.0992559523809524\n"
     ]
    }
   ],
   "source": [
    "# two intervals\n",
    "import math\n",
    "def f(z):\n",
    "    return 1.0/(1.0-z)\n",
    "\n",
    "# 1st half\n",
    "a=2.0\n",
    "b=3.0\n",
    "\n",
    "h=(b-a)/3.0\n",
    "\n",
    "x0=a\n",
    "x1=a+h\n",
    "x2=a+2.0*h\n",
    "x3=a+3.0*h\n",
    "\n",
    "\n",
    "I=(3.0*h/8.0)*(f(x0)+3.0*f(x1)+3.0*f(x2)+f(x3))\n",
    "\n",
    "a=3.0\n",
    "b=4.0\n",
    "\n",
    "h=(b-a)/3.0\n",
    "\n",
    "y0=a\n",
    "y1=a+h\n",
    "y2=a+2.0*h\n",
    "y3=a+3.0*h\n",
    "\n",
    "\n",
    "J=(3.0*h/8.0)*(f(y0)+3.0*f(y1)+3.0*f(y2)+f(y3))\n",
    "\n",
    "K=I+J\n",
    "\n",
    "print(\"Simpsons 3/8 rule (two intervals), {}+{}={}\".format(I,J,K))"
   ]
  },
  {
   "cell_type": "code",
   "execution_count": null,
   "metadata": {},
   "outputs": [],
   "source": []
  }
 ],
 "metadata": {
  "kernelspec": {
   "display_name": "Python 3 (ipykernel)",
   "language": "python",
   "name": "python3"
  },
  "language_info": {
   "codemirror_mode": {
    "name": "ipython",
    "version": 3
   },
   "file_extension": ".py",
   "mimetype": "text/x-python",
   "name": "python",
   "nbconvert_exporter": "python",
   "pygments_lexer": "ipython3",
   "version": "3.9.12"
  }
 },
 "nbformat": 4,
 "nbformat_minor": 2
}
