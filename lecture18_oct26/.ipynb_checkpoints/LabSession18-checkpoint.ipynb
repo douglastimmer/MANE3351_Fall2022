{
 "cells": [
  {
   "cell_type": "code",
   "execution_count": 15,
   "id": "da518e68",
   "metadata": {},
   "outputs": [],
   "source": [
    "import numpy as np\n",
    "from scipy.stats import t\n",
    "import pandas as pd\n",
    "\n",
    "dFreedom=np.arange(1,11)\n",
    "#print(dFreedom)\n",
    "\n",
    "#for x in np.nditer(dFreedom):\n",
    " #   print(x)\n",
    "    \n",
    "t_02=np.zeros(np.size(dFreedom))\n",
    "#print(t_02)\n",
    "\n",
    "for i in range(0,np.size(dFreedom)):\n",
    "    #print(i)\n",
    "    t_02[i]=t.ppf(.98,dFreedom[i])\n",
    "#print(t_02)\n",
    "\n",
    "df_1=pd.DataFrame({'degrees of freedom':dFreedom,'t_02':t_02})\n",
    "#print(df_1)\n",
    "\n",
    "#write to excel\n",
    "df_1.to_excel('t_table.xlsx',sheet_name='Timmer 1')"
   ]
  },
  {
   "cell_type": "code",
   "execution_count": null,
   "id": "73113331",
   "metadata": {},
   "outputs": [],
   "source": []
  }
 ],
 "metadata": {
  "kernelspec": {
   "display_name": "Python 3 (ipykernel)",
   "language": "python",
   "name": "python3"
  },
  "language_info": {
   "codemirror_mode": {
    "name": "ipython",
    "version": 3
   },
   "file_extension": ".py",
   "mimetype": "text/x-python",
   "name": "python",
   "nbconvert_exporter": "python",
   "pygments_lexer": "ipython3",
   "version": "3.9.12"
  }
 },
 "nbformat": 4,
 "nbformat_minor": 5
}
