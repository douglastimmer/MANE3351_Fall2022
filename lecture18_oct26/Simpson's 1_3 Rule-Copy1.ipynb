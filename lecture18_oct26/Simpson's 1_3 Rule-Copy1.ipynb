{
 "cells": [
  {
   "cell_type": "markdown",
   "metadata": {},
   "source": [
    "### October 7 Lecture\n",
    "\n"
   ]
  },
  {
   "cell_type": "code",
   "execution_count": 2,
   "metadata": {},
   "outputs": [
    {
     "name": "stdout",
     "output_type": "stream",
     "text": [
      "The area is 14.625498491928283 after 3 iterations\n"
     ]
    }
   ],
   "source": [
    "import math\n",
    "def f(z):\n",
    "    return (math.exp(z)*math.log(z))/z\n",
    "n=3\n",
    "a=1.0\n",
    "b=4.0\n",
    "h=(b-a)/n\n",
    "sum=f(a)+f(b)\n",
    "for i in range(1,n):\n",
    "    k=a+i*h\n",
    "    if i%2==0:\n",
    "        #print(\"even number\")\n",
    "        sum=sum+2.0*f(k)\n",
    "    else:\n",
    "        #print(\"odd number\")\n",
    "        sum=sum+4.0*f(k)\n",
    "sum=sum*h/3.0\n",
    "print(\"The area is {} after {} iterations\".format(sum,n))"
   ]
  },
  {
   "cell_type": "code",
   "execution_count": null,
   "metadata": {},
   "outputs": [],
   "source": []
  },
  {
   "cell_type": "code",
   "execution_count": null,
   "metadata": {},
   "outputs": [],
   "source": []
  }
 ],
 "metadata": {
  "kernelspec": {
   "display_name": "Python 3",
   "language": "python",
   "name": "python3"
  },
  "language_info": {
   "codemirror_mode": {
    "name": "ipython",
    "version": 3
   },
   "file_extension": ".py",
   "mimetype": "text/x-python",
   "name": "python",
   "nbconvert_exporter": "python",
   "pygments_lexer": "ipython3",
   "version": "3.8.5"
  }
 },
 "nbformat": 4,
 "nbformat_minor": 2
}
