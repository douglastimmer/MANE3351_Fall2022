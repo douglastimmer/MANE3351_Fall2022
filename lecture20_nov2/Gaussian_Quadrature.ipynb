{
 "cells": [
  {
   "cell_type": "markdown",
   "metadata": {},
   "source": [
    "##### October 14 Lecture\n",
    "## Gaussian Quadrature\n"
   ]
  },
  {
   "cell_type": "code",
   "execution_count": 1,
   "metadata": {},
   "outputs": [
    {
     "name": "stdout",
     "output_type": "stream",
     "text": [
      "the area using 2-point gaussian quadrature is 0.6753946992919996\n",
      "the area using 5-point gaussain quadrature is 0.6826897353882186\n"
     ]
    }
   ],
   "source": [
    "# Part 1, original formula in range (-1,1)\n",
    "#\n",
    "import math\n",
    "import numpy as np\n",
    "def f(z):\n",
    "    return (math.exp(-0.5*z**2)/((2.0*math.pi)**0.5))\n",
    "#\n",
    "# 2 point Gaussian Quadrature\n",
    "x2=[-0.577350269189626,0.577350269189626]\n",
    "w2=[1.0,1.0]\n",
    "#\n",
    "i2=0.0\n",
    "for i in range(0,len(x2)):\n",
    "    i2=i2+w2[i]*f(x2[i])\n",
    "print(\"the area using 2-point gaussian quadrature is {}\".format(i2))\n",
    "#\n",
    "# 5 point Gaussian Quadrature\n",
    "x5=[0.0, -0.538469310105683,0.538469310105683,-0.906179845938664,0.906179845938664]\n",
    "w5=[0.568888888888889,0.478628670499366,0.478628670499366,0.236926885056189,0.236926885056189]\n",
    "i5=0.0\n",
    "for i in range(0,len(x5)):\n",
    "    i5=i5+w5[i]*f(x5[i])\n",
    "print(\"the area using 5-point gaussain quadrature is {}\".format(i5))\n"
   ]
  },
  {
   "cell_type": "code",
   "execution_count": 2,
   "metadata": {},
   "outputs": [
    {
     "name": "stdout",
     "output_type": "stream",
     "text": [
      "Gaussian Quadrature, arbitrary interval\n",
      "the area using 2-point gaussian quadrature is 0.5711282637787564\n",
      "the area using 5-point gaussian quadrature is 0.5004474475195477\n"
     ]
    }
   ],
   "source": [
    "# Part 2\n",
    "#\n",
    "print(\"Gaussian Quadrature, arbitrary interval\")\n",
    "a=-5.0\n",
    "b=0.0\n",
    "#\n",
    "# redo 2 point gaussian\n",
    "i2=0.0\n",
    "for i in range(0,len(x2)):\n",
    "    y=((b-a)/2.0)*x2[i]+(b+a)/2.0\n",
    "    i2=i2+w2[i]*f(y)\n",
    "i2=((b-a)/2.0)*i2\n",
    "print(\"the area using 2-point gaussian quadrature is {}\".format(i2))\n",
    "#\n",
    "# redoc 5 point gaussian\n",
    "i5=0.0\n",
    "for i in range(0,len(x5)):\n",
    "    y=((b-a)/2.0)*x5[i]+(b+a)/2.0\n",
    "    i5=i5+w5[i]*f(y)\n",
    "i5=((b-a)/2.0)*i5\n",
    "print(\"the area using 5-point gaussian quadrature is {}\".format(i5))\n"
   ]
  },
  {
   "cell_type": "code",
   "execution_count": null,
   "metadata": {},
   "outputs": [],
   "source": []
  }
 ],
 "metadata": {
  "kernelspec": {
   "display_name": "Python 3",
   "language": "python",
   "name": "python3"
  },
  "language_info": {
   "codemirror_mode": {
    "name": "ipython",
    "version": 3
   },
   "file_extension": ".py",
   "mimetype": "text/x-python",
   "name": "python",
   "nbconvert_exporter": "python",
   "pygments_lexer": "ipython3",
   "version": "3.8.5"
  }
 },
 "nbformat": 4,
 "nbformat_minor": 2
}
