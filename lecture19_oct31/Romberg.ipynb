{
 "cells": [
  {
   "cell_type": "markdown",
   "metadata": {},
   "source": [
    "# October 14 Lecture\n",
    "## Romberg Integration\n"
   ]
  },
  {
   "cell_type": "code",
   "execution_count": 4,
   "metadata": {},
   "outputs": [
    {
     "name": "stdout",
     "output_type": "stream",
     "text": [
      "Enter the lower limit of the integral: -5\n",
      "Enter the upper limit of the integral: 0\n",
      "enter the number of interations (n): 2\n",
      "[[0.99735942 0.         0.        ]\n",
      " [0.54250046 0.39088081 0.        ]\n",
      " [0.50000233 0.48583629 0.49216665]]\n"
     ]
    }
   ],
   "source": [
    "import math\n",
    "import numpy as np\n",
    "def f(z):\n",
    "    return (math.exp(-0.5*z**2)/((2.0*math.pi)**0.5))\n",
    "#\n",
    "a=float(input(\"Enter the lower limit of the integral: \"))\n",
    "b=float(input(\"Enter the upper limit of the integral: \"))\n",
    "n=int(input(\"enter the number of interations (n): \"))\n",
    "#\n",
    "# initialize matrix r\n",
    "r=np.zeros(shape=(n+1,n+1))\n",
    "h=b-a\n",
    "#find R(0,0)\n",
    "r[0][0]=(h/2.0)*(f(a)+f(b))\n",
    "for i in range(1,n+1):\n",
    "    h=h/2.0\n",
    "    sum=0.0\n",
    "    for k in range(1,2**i,2):\n",
    "        sum=sum+f(a+k*h)\n",
    "    r[i][0]=0.5*r[i-1][0]+sum*h\n",
    "    for j in range(1,i+1):\n",
    "        r[i][j]=r[i][j-1]+(r[i][j-1]-r[i-1][j-1])/(4**j-1)\n",
    "print(r)\n",
    "#h=(b-a)/n\n",
    "#print(\"The area is {} after {} iterations\".format(sum,n))"
   ]
  },
  {
   "cell_type": "code",
   "execution_count": 7,
   "metadata": {},
   "outputs": [
    {
     "name": "stdout",
     "output_type": "stream",
     "text": [
      "0.01752830049356854\n"
     ]
    }
   ],
   "source": [
    "def f(z):\n",
    "    return (math.exp(-0.5*z**2)/((2.0*math.pi)**0.5))\n",
    "#\n",
    "print(f(-2.5))"
   ]
  },
  {
   "cell_type": "code",
   "execution_count": null,
   "metadata": {},
   "outputs": [],
   "source": []
  }
 ],
 "metadata": {
  "kernelspec": {
   "display_name": "Python 3",
   "language": "python",
   "name": "python3"
  },
  "language_info": {
   "codemirror_mode": {
    "name": "ipython",
    "version": 3
   },
   "file_extension": ".py",
   "mimetype": "text/x-python",
   "name": "python",
   "nbconvert_exporter": "python",
   "pygments_lexer": "ipython3",
   "version": "3.8.5"
  }
 },
 "nbformat": 4,
 "nbformat_minor": 2
}
