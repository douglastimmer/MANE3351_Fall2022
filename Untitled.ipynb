{
 "cells": [
  {
   "cell_type": "code",
   "execution_count": 32,
   "id": "9a31db31",
   "metadata": {},
   "outputs": [
    {
     "name": "stdout",
     "output_type": "stream",
     "text": [
      "[[1 1 0 0]\n",
      " [1 1 0 0]\n",
      " [1 1 0 0]\n",
      " [1 0 1 0]\n",
      " [1 0 1 0]\n",
      " [1 0 0 1]\n",
      " [1 0 0 1]\n",
      " [1 0 1 1]]\n"
     ]
    }
   ],
   "source": [
    "import numpy as np\n",
    "from scipy import linalg\n",
    "\n",
    "Z=np.mat([[1,1,0,0],[1,1,0,0],[1,1,0,0],[1,0,1,0],[1,0,1,0],[1,0,0,1],[1,0,0,1],[1,0,1,1]])\n",
    "print(Z)\n",
    "Y=np.mat([[9],[6],[9],[0],[2],[3],[1],[2]])"
   ]
  },
  {
   "cell_type": "code",
   "execution_count": 33,
   "id": "cb26eb50",
   "metadata": {},
   "outputs": [
    {
     "name": "stdout",
     "output_type": "stream",
     "text": [
      "[[ 1.00000000e+00]\n",
      " [ 7.00000000e+00]\n",
      " [-2.10942375e-15]\n",
      " [ 1.00000000e+00]]\n"
     ]
    }
   ],
   "source": [
    "beta = (Z.T@Z).I@Z.T@Y\n",
    "#print(linalg.det(beta))\n",
    "print(beta)"
   ]
  },
  {
   "cell_type": "code",
   "execution_count": null,
   "id": "7fba8f2b",
   "metadata": {},
   "outputs": [],
   "source": []
  }
 ],
 "metadata": {
  "kernelspec": {
   "display_name": "Python 3 (ipykernel)",
   "language": "python",
   "name": "python3"
  },
  "language_info": {
   "codemirror_mode": {
    "name": "ipython",
    "version": 3
   },
   "file_extension": ".py",
   "mimetype": "text/x-python",
   "name": "python",
   "nbconvert_exporter": "python",
   "pygments_lexer": "ipython3",
   "version": "3.9.7"
  }
 },
 "nbformat": 4,
 "nbformat_minor": 5
}
