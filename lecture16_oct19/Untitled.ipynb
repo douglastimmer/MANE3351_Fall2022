{
 "cells": [
  {
   "cell_type": "code",
   "execution_count": null,
   "id": "b68b99ca",
   "metadata": {},
   "outputs": [],
   "source": []
  },
  {
   "cell_type": "code",
   "execution_count": 2,
   "id": "a121518c",
   "metadata": {},
   "outputs": [
    {
     "name": "stdout",
     "output_type": "stream",
     "text": [
      "Enter value of x3.0\n",
      "20.085536923187668\n"
     ]
    }
   ],
   "source": [
    "import math\n",
    "def f(x,param2):\n",
    "    return math.exp(x) #expand this function\n",
    "\n",
    "#print(x)\n",
    "y=f(x)\n",
    "print(y) #make a prettier print statement"
   ]
  },
  {
   "cell_type": "code",
   "execution_count": null,
   "id": "f03e777f",
   "metadata": {},
   "outputs": [],
   "source": []
  }
 ],
 "metadata": {
  "kernelspec": {
   "display_name": "Python 3 (ipykernel)",
   "language": "python",
   "name": "python3"
  },
  "language_info": {
   "codemirror_mode": {
    "name": "ipython",
    "version": 3
   },
   "file_extension": ".py",
   "mimetype": "text/x-python",
   "name": "python",
   "nbconvert_exporter": "python",
   "pygments_lexer": "ipython3",
   "version": "3.9.12"
  }
 },
 "nbformat": 4,
 "nbformat_minor": 5
}
