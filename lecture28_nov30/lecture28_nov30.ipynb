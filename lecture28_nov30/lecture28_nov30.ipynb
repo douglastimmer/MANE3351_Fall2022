{
 "cells": [
  {
   "cell_type": "code",
   "execution_count": 1,
   "id": "374a46a7",
   "metadata": {},
   "outputs": [
    {
     "name": "stdout",
     "output_type": "stream",
     "text": [
      "[[ 4.50359963e+15 -4.50359963e+15 -4.50359963e+15 -4.50359963e+15]\n",
      " [-4.50359963e+15  4.50359963e+15  4.50359963e+15  4.50359963e+15]\n",
      " [-4.50359963e+15  4.50359963e+15  4.50359963e+15  4.50359963e+15]\n",
      " [-4.50359963e+15  4.50359963e+15  4.50359963e+15  4.50359963e+15]]\n",
      "3.9968028886505635e-15\n"
     ]
    }
   ],
   "source": [
    "import numpy as np\n",
    "from scipy import linalg\n",
    "\n",
    "Z=np.mat([[1,1,0,0],[1,1,0,0],[1,1,0,0],[1,0,1,0],[1,0,1,0],[1,0,0,1],[1,0,0,1],[1,0,0,1]])\n",
    "\n",
    "matrixA=(Z.T@Z).I\n",
    "\n",
    "print(matrixA)\n",
    "\n",
    "print(linalg.det(Z.T@Z))"
   ]
  },
  {
   "cell_type": "code",
   "execution_count": 7,
   "id": "fb0a34ff",
   "metadata": {},
   "outputs": [
    {
     "name": "stdout",
     "output_type": "stream",
     "text": [
      "12.000000000000007\n",
      "[[ 2.         -2.         -1.5        -1.5       ]\n",
      " [-2.          2.33333333  1.5         1.5       ]\n",
      " [-1.5         1.5         1.5         1.        ]\n",
      " [-1.5         1.5         1.          1.5       ]]\n"
     ]
    }
   ],
   "source": [
    "X=np.mat([[1,1,0,0],[1,1,0,0],[1,1,0,0],[1,0,1,0],[1,0,1,0],[1,0,0,1],[1,0,0,1],[1,0,1,1]])\n",
    "\n",
    "print(linalg.det(X.T@X))\n",
    "\n",
    "matrixB=(X.T@X).I\n",
    "print(matrixB)\n"
   ]
  },
  {
   "cell_type": "code",
   "execution_count": null,
   "id": "c252a02c",
   "metadata": {},
   "outputs": [],
   "source": []
  }
 ],
 "metadata": {
  "kernelspec": {
   "display_name": "Python 3 (ipykernel)",
   "language": "python",
   "name": "python3"
  },
  "language_info": {
   "codemirror_mode": {
    "name": "ipython",
    "version": 3
   },
   "file_extension": ".py",
   "mimetype": "text/x-python",
   "name": "python",
   "nbconvert_exporter": "python",
   "pygments_lexer": "ipython3",
   "version": "3.9.7"
  }
 },
 "nbformat": 4,
 "nbformat_minor": 5
}
