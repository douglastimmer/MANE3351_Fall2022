{
 "cells": [
  {
   "cell_type": "markdown",
   "metadata": {},
   "source": [
    "# October Lecture\n",
    "\n"
   ]
  },
  {
   "cell_type": "markdown",
   "metadata": {},
   "source": [
    "# October 5 Lecture Demonstration"
   ]
  },
  {
   "cell_type": "code",
   "execution_count": 1,
   "metadata": {},
   "outputs": [
    {
     "name": "stdout",
     "output_type": "stream",
     "text": [
      "enter the lower bound: -3\n",
      "enter the upper bound: -2\n",
      "incorrect bounds, please re-enter\n",
      "enter the lower bound: -3\n",
      "enter the upper bound: 3\n",
      "the lower bound is -3.0\n",
      "the upper bound is 3.0\n",
      "the root is -0.6744953398981424\n",
      "the value at the root is -1.7762730146753114e-06\n",
      "the number of steps were 5\n"
     ]
    }
   ],
   "source": [
    "# October 5\n",
    "# False \n",
    "from scipy import stats\n",
    "import math\n",
    "def f(x):\n",
    "    return stats.norm.cdf(x)-.25\n",
    "# input a & b\n",
    "while True:\n",
    "    a=float(input(\"enter the lower bound: \"))\n",
    "    b=float(input(\"enter the upper bound: \"))\n",
    "    if f(a)*f(b)<0.0:\n",
    "        break\n",
    "    print(\"incorrect bounds, please re-enter\")\n",
    "print(\"the lower bound is {}\".format(a))\n",
    "print(\"the upper bound is {}\".format(b))\n",
    "counter=0\n",
    "# process loop\n",
    "while True:\n",
    "    m= a - ((a-b)*f(a))/(f(a)-f(b))\n",
    "    if f(a)*f(b)<0.0:\n",
    "        b=m\n",
    "    else:\n",
    "        a=m\n",
    "    counter=counter+1\n",
    "    if math.fabs(f(m)) <0.0005:\n",
    "        break\n",
    "print(\"the root is {}\".format(m))   \n",
    "print(\"the value at the root is {}\".format(f(m)))\n",
    "print(\"the number of steps were {}\".format(counter))"
   ]
  },
  {
   "cell_type": "code",
   "execution_count": null,
   "metadata": {},
   "outputs": [],
   "source": []
  },
  {
   "cell_type": "code",
   "execution_count": 4,
   "metadata": {},
   "outputs": [
    {
     "data": {
      "text/plain": [
       "-3.0"
      ]
     },
     "execution_count": 4,
     "metadata": {},
     "output_type": "execute_result"
    }
   ],
   "source": [
    "-3.0"
   ]
  }
 ],
 "metadata": {
  "kernelspec": {
   "display_name": "Python 3 (ipykernel)",
   "language": "python",
   "name": "python3"
  },
  "language_info": {
   "codemirror_mode": {
    "name": "ipython",
    "version": 3
   },
   "file_extension": ".py",
   "mimetype": "text/x-python",
   "name": "python",
   "nbconvert_exporter": "python",
   "pygments_lexer": "ipython3",
   "version": "3.9.12"
  }
 },
 "nbformat": 4,
 "nbformat_minor": 2
}
