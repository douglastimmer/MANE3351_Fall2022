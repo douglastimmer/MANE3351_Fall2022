{
 "cells": [
  {
   "cell_type": "markdown",
   "metadata": {},
   "source": [
    "# October 5 Lecture\n",
    "\n"
   ]
  },
  {
   "cell_type": "code",
   "execution_count": null,
   "metadata": {
    "scrolled": true
   },
   "outputs": [],
   "source": [
    "from scipy import stats\n",
    "p=0.25\n",
    "\n",
    "x=float(input(\"Enter the value of x: \"))\n",
    "fx=stats.norm.cdf(x)#error\n",
    "\n",
    "print(\"for x={}, f({})={}\".format(x,x,fx))"
   ]
  },
  {
   "cell_type": "code",
   "execution_count": null,
   "metadata": {},
   "outputs": [],
   "source": [
    "print(\"{}-th percentile={}\".format(p,stats.norm.ppf(p)))"
   ]
  },
  {
   "cell_type": "code",
   "execution_count": null,
   "metadata": {},
   "outputs": [],
   "source": [
    "# Pseudo-code 2\n",
    "#from scipy import stats\n",
    "def f(x):\n",
    "    return stats.norm.cdf(x)-.25\n",
    "# initialize code\n",
    "a=-0.9\n",
    "b=0.9\n",
    "i=1\n",
    "L=f(a)\n",
    "m=(a+b)/2.0 # discuss divisor\n",
    "M=f(m)\n",
    "while True:\n",
    "    if L*M<0.0:\n",
    "        b=m\n",
    "    else:\n",
    "        a=m\n",
    "        L=M\n",
    "    m=(a+b)/2.0\n",
    "    M=f(m)\n",
    "    i=i+1\n",
    "    print(\"iteration {}, root is located at {}\".format(i,m))\n",
    "print(\"{} iterations processed\".format(i))\n",
    "print(\"the root is {} with f({})={}\".format(m,m,M))"
   ]
  },
  {
   "cell_type": "code",
   "execution_count": 1,
   "metadata": {},
   "outputs": [
    {
     "name": "stdout",
     "output_type": "stream",
     "text": [
      "stopping inside for loop at iteration 12\n",
      "the root is -0.6741943359375 with f(-0.6741943359375)=9.38850824219184e-05\n"
     ]
    }
   ],
   "source": [
    "# Pseudo-code 1\n",
    "from scipy import stats\n",
    "import math\n",
    "def f(x):\n",
    "    return stats.norm.cdf(x)-.25\n",
    "# initialize code\n",
    "a=-3.0\n",
    "b=0.0\n",
    "tol=0.0005\n",
    "N=100\n",
    "err=math.fabs(b-a)\n",
    "L=f(a)\n",
    "for i in range(0,N+1):\n",
    "    m=(a+b)/2.0\n",
    "    M=f(m)\n",
    "    err=err/2.0\n",
    "    if (M==0) or (err<tol):\n",
    "        print(\"stopping inside for loop at iteration {}\".format(i))\n",
    "        break\n",
    "    if (L*M<0):\n",
    "        b=m\n",
    "    else:\n",
    "        a=m\n",
    "        L=M\n",
    "print(\"the root is {} with f({})={}\".format(m,m,M))    "
   ]
  },
  {
   "cell_type": "code",
   "execution_count": null,
   "metadata": {},
   "outputs": [],
   "source": []
  }
 ],
 "metadata": {
  "kernelspec": {
   "display_name": "Python 3 (ipykernel)",
   "language": "python",
   "name": "python3"
  },
  "language_info": {
   "codemirror_mode": {
    "name": "ipython",
    "version": 3
   },
   "file_extension": ".py",
   "mimetype": "text/x-python",
   "name": "python",
   "nbconvert_exporter": "python",
   "pygments_lexer": "ipython3",
   "version": "3.9.12"
  }
 },
 "nbformat": 4,
 "nbformat_minor": 2
}
