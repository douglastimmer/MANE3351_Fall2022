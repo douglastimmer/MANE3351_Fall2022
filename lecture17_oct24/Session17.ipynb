{
 "cells": [
  {
   "cell_type": "code",
   "execution_count": 5,
   "id": "2d431c71",
   "metadata": {},
   "outputs": [
    {
     "name": "stdout",
     "output_type": "stream",
     "text": [
      "enter s: -3\n",
      "enter s: -5\n",
      "enter s: -2\n",
      "enter s: 2\n",
      "0.004566281420127915\n"
     ]
    }
   ],
   "source": [
    "import math\n",
    "\n",
    "def f(x,m,s):\n",
    "    z=(x-m)/s\n",
    "    return math.exp(z-math.exp(z))\n",
    "\n",
    "\n",
    "s=float(-99.99)\n",
    "while s<0:\n",
    "    s=float(input(\"enter s: \"))\n",
    "\n",
    "print(f(2,0,1))"
   ]
  },
  {
   "cell_type": "code",
   "execution_count": null,
   "id": "43acb7b6",
   "metadata": {},
   "outputs": [],
   "source": []
  }
 ],
 "metadata": {
  "kernelspec": {
   "display_name": "Python 3 (ipykernel)",
   "language": "python",
   "name": "python3"
  },
  "language_info": {
   "codemirror_mode": {
    "name": "ipython",
    "version": 3
   },
   "file_extension": ".py",
   "mimetype": "text/x-python",
   "name": "python",
   "nbconvert_exporter": "python",
   "pygments_lexer": "ipython3",
   "version": "3.9.12"
  }
 },
 "nbformat": 4,
 "nbformat_minor": 5
}
