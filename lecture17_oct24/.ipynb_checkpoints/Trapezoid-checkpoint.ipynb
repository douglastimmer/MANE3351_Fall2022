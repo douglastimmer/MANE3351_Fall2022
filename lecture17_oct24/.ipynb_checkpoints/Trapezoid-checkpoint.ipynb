{
 "cells": [
  {
   "cell_type": "markdown",
   "metadata": {},
   "source": [
    "### September 29 Lecture\n",
    "\n"
   ]
  },
  {
   "cell_type": "code",
   "execution_count": 1,
   "metadata": {},
   "outputs": [
    {
     "name": "stdout",
     "output_type": "stream",
     "text": [
      "The area is 0.5425004601351057 after 2 iterations\n"
     ]
    }
   ],
   "source": [
    "import math\n",
    "def f(z):\n",
    "    return (math.exp(-0.5*z**2)/((2.0*math.pi)**0.5)) # standard normal pdf\n",
    "n=2\n",
    "\n",
    "\n",
    "\n",
    "a=-5.0\n",
    "b=0.0\n",
    "h=(b-a)/n\n",
    "sum=0.5*(f(a)+f(b))\n",
    "for i in range(1,n):\n",
    "    x=a+i*h\n",
    "    sum=sum+f(x)\n",
    "sum=sum*h\n",
    "print(\"The area is {} after {} iterations\".format(sum,n))"
   ]
  },
  {
   "cell_type": "code",
   "execution_count": null,
   "metadata": {},
   "outputs": [],
   "source": []
  },
  {
   "cell_type": "code",
   "execution_count": null,
   "metadata": {},
   "outputs": [],
   "source": []
  }
 ],
 "metadata": {
  "kernelspec": {
   "display_name": "Python 3 (ipykernel)",
   "language": "python",
   "name": "python3"
  },
  "language_info": {
   "codemirror_mode": {
    "name": "ipython",
    "version": 3
   },
   "file_extension": ".py",
   "mimetype": "text/x-python",
   "name": "python",
   "nbconvert_exporter": "python",
   "pygments_lexer": "ipython3",
   "version": "3.9.12"
  }
 },
 "nbformat": 4,
 "nbformat_minor": 2
}
