{
 "cells": [
  {
   "cell_type": "markdown",
   "metadata": {},
   "source": [
    "### September 29 Lecture\n",
    "\n"
   ]
  },
  {
   "cell_type": "code",
   "execution_count": 10,
   "metadata": {},
   "outputs": [
    {
     "name": "stdout",
     "output_type": "stream",
     "text": [
      "The area is 0.5000023314067895 after 4 iterations\n"
     ]
    }
   ],
   "source": [
    "import math\n",
    "def f(z):\n",
    "    return (math.exp(-0.5*z**2)/((2.0*math.pi)**0.5)) # standard normal pdf\n",
    "n=4\n",
    "\n",
    "\n",
    "\n",
    "a=-5.0\n",
    "b=0.0\n",
    "h=(b-a)/n\n",
    "sum=0.5*(f(a)+f(b))\n",
    "for i in range(1,n):\n",
    "    x=a+i*h\n",
    "    sum=sum+f(x)\n",
    "sum=sum*h\n",
    "print(\"The area is {} after {} iterations\".format(sum,n))"
   ]
  },
  {
   "cell_type": "code",
   "execution_count": null,
   "metadata": {},
   "outputs": [],
   "source": []
  },
  {
   "cell_type": "code",
   "execution_count": null,
   "metadata": {},
   "outputs": [],
   "source": []
  }
 ],
 "metadata": {
  "kernelspec": {
   "display_name": "Python 3",
   "language": "python",
   "name": "python3"
  },
  "language_info": {
   "codemirror_mode": {
    "name": "ipython",
    "version": 3
   },
   "file_extension": ".py",
   "mimetype": "text/x-python",
   "name": "python",
   "nbconvert_exporter": "python",
   "pygments_lexer": "ipython3",
   "version": "3.8.5"
  }
 },
 "nbformat": 4,
 "nbformat_minor": 2
}
