{
 "cells": [
  {
   "cell_type": "markdown",
   "metadata": {},
   "source": [
    "### September 29 Lecture\n",
    "\n"
   ]
  },
  {
   "cell_type": "code",
   "execution_count": 4,
   "metadata": {},
   "outputs": [
    {
     "name": "stdout",
     "output_type": "stream",
     "text": [
      "sum=9.461138439815702\n",
      "x=2.0, sum=12.021990140802227\n",
      "x=3.0, sum=19.377396036905903\n",
      "The area is 19.377396036905903 after 3 iterations\n"
     ]
    }
   ],
   "source": [
    "import math\n",
    "def f(z):\n",
    "    return (math.exp(z)*math.log(z)/z)\n",
    "\n",
    "            \n",
    "n=3\n",
    "a=1\n",
    "b=4\n",
    "h=(b-a)/n\n",
    "sum=0.5*(f(a)+f(b))\n",
    "print(\"sum={}\".format(sum))\n",
    "for i in range(1,n):\n",
    "    x=a+i*h\n",
    "    sum=sum+f(x)\n",
    "    print(\"x={}, sum={}\".format(x,sum))\n",
    "sum=sum*h\n",
    "print(\"The area is {} after {} iterations\".format(sum,n))"
   ]
  },
  {
   "cell_type": "code",
   "execution_count": null,
   "metadata": {},
   "outputs": [],
   "source": []
  },
  {
   "cell_type": "code",
   "execution_count": null,
   "metadata": {},
   "outputs": [],
   "source": []
  }
 ],
 "metadata": {
  "kernelspec": {
   "display_name": "Python 3",
   "language": "python",
   "name": "python3"
  },
  "language_info": {
   "codemirror_mode": {
    "name": "ipython",
    "version": 3
   },
   "file_extension": ".py",
   "mimetype": "text/x-python",
   "name": "python",
   "nbconvert_exporter": "python",
   "pygments_lexer": "ipython3",
   "version": "3.8.5"
  }
 },
 "nbformat": 4,
 "nbformat_minor": 2
}
