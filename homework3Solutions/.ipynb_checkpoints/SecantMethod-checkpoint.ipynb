{
 "cells": [
  {
   "cell_type": "markdown",
   "metadata": {},
   "source": [
    "### Secant Method\n",
    "\n"
   ]
  },
  {
   "cell_type": "code",
   "execution_count": 3,
   "metadata": {},
   "outputs": [
    {
     "name": "stdout",
     "output_type": "stream",
     "text": [
      "iteration 0, x=-0.0316150654270988\n",
      "iteration 1, x=-3.3848258405697518\n",
      "iteration 2, x=0.7389866878507938\n",
      "iteration 3, x=0.8325853764091623\n",
      "completed\n"
     ]
    }
   ],
   "source": [
    "import math\n",
    "def f(x):\n",
    "    return 2.0*x*math.cos(x)-(x-2)**2\n",
    "\n",
    "N=3\n",
    "tol=0.0005\n",
    "x0=3.0\n",
    "x1=4.0\n",
    "# step 1\n",
    "y0=f(x0)\n",
    "y1=f(x1)\n",
    "# counter is additional\n",
    "counter=0\n",
    "for j in range(N+1):\n",
    "    counter=counter+1\n",
    "    # step 3\n",
    "    x=x1-y1*((x1-x0)/(y1-y0))\n",
    "    if math.fabs(x-x1)<tol:\n",
    "        print(\"the root is {} with value {}, required {} steps\".format(x,f(x),counter))\n",
    "        break\n",
    "    # step 5\n",
    "    print(\"iteration {}, x={}\".format(j,x))\n",
    "    x0=x1\n",
    "    y0=y1\n",
    "    x1=x\n",
    "    y1=f(x1)\n",
    "print(\"completed\")"
   ]
  },
  {
   "cell_type": "code",
   "execution_count": null,
   "metadata": {},
   "outputs": [],
   "source": []
  },
  {
   "cell_type": "code",
   "execution_count": null,
   "metadata": {},
   "outputs": [],
   "source": []
  }
 ],
 "metadata": {
  "kernelspec": {
   "display_name": "Python 3 (ipykernel)",
   "language": "python",
   "name": "python3"
  },
  "language_info": {
   "codemirror_mode": {
    "name": "ipython",
    "version": 3
   },
   "file_extension": ".py",
   "mimetype": "text/x-python",
   "name": "python",
   "nbconvert_exporter": "python",
   "pygments_lexer": "ipython3",
   "version": "3.9.12"
  }
 },
 "nbformat": 4,
 "nbformat_minor": 2
}
