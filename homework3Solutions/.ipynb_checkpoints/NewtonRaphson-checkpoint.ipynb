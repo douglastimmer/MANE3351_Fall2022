{
 "cells": [
  {
   "cell_type": "markdown",
   "metadata": {},
   "source": [
    "# Newton Raphson Method - Homework 3\n"
   ]
  },
  {
   "cell_type": "code",
   "execution_count": 1,
   "metadata": {},
   "outputs": [
    {
     "ename": "SyntaxError",
     "evalue": "invalid syntax (2132804631.py, line 4)",
     "output_type": "error",
     "traceback": [
      "\u001b[0;36m  Input \u001b[0;32mIn [1]\u001b[0;36m\u001b[0m\n\u001b[0;31m    def f_prime(x):\u001b[0m\n\u001b[0m    ^\u001b[0m\n\u001b[0;31mSyntaxError\u001b[0m\u001b[0;31m:\u001b[0m invalid syntax\n"
     ]
    }
   ],
   "source": [
    "import math\n",
    "def f(x):\n",
    "    return (2.0*x*math.cos(x)-(x-2)**2\n",
    "def f_prime(x):\n",
    "    return -2.0*x*math.sin(x)+2.0math.cos(x)-2.0*(x-2.0)\n",
    "N=4\n",
    "tol=0.0005\n",
    "x_0=3.5\n",
    "counter=0\n",
    "for j in range(N+1):\n",
    "    counter=counter+1\n",
    "    x=x_0-f(x_0)/f_prime(x_0)\n",
    "    print(\"x={}\".format(x))\n",
    "    if math.fabs(x-x_0)<tol:\n",
    "        print(\"the root is {} with value {}, required {} steps\".format(x,f(x),counter))\n",
    "        break\n",
    "    x_0=x\n",
    "print(\"completed\")"
   ]
  },
  {
   "cell_type": "code",
   "execution_count": null,
   "metadata": {},
   "outputs": [],
   "source": []
  }
 ],
 "metadata": {
  "kernelspec": {
   "display_name": "Python 3 (ipykernel)",
   "language": "python",
   "name": "python3"
  },
  "language_info": {
   "codemirror_mode": {
    "name": "ipython",
    "version": 3
   },
   "file_extension": ".py",
   "mimetype": "text/x-python",
   "name": "python",
   "nbconvert_exporter": "python",
   "pygments_lexer": "ipython3",
   "version": "3.9.12"
  }
 },
 "nbformat": 4,
 "nbformat_minor": 2
}
