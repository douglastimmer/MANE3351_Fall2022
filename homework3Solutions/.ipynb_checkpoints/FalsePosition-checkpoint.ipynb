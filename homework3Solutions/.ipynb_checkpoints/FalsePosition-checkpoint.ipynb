{
 "cells": [
  {
   "cell_type": "markdown",
   "metadata": {},
   "source": [
    "# Homework 3 - False Position"
   ]
  },
  {
   "cell_type": "code",
   "execution_count": null,
   "metadata": {},
   "outputs": [
    {
     "name": "stdout",
     "output_type": "stream",
     "text": [
      "enter the lower bound: 3\n",
      "enter the upper bound: 4\n",
      "incorrect bounds, please re-enter\n"
     ]
    }
   ],
   "source": [
    "# October 5\n",
    "# False \n",
    "from scipy import stats\n",
    "import math\n",
    "def f(x):\n",
    "    return 2.0*x*math.cos(x)-(x-2)**2\n",
    "# input a & b\n",
    "while True:\n",
    "    a=float(input(\"enter the lower bound: \"))\n",
    "    b=float(input(\"enter the upper bound: \"))\n",
    "    if f(a)*f(b)<0.0:\n",
    "        break\n",
    "    print(\"incorrect bounds, please re-enter\")\n",
    "print(\"the lower bound is {}\".format(a))\n",
    "print(\"the upper bound is {}\".format(b))\n",
    "counter=0\n",
    "# process loop\n",
    "while True:\n",
    "    m= a - ((a-b)*f(a))/(f(a)-f(b))\n",
    "    if f(a)*f(b)<0.0:\n",
    "        b=m\n",
    "    else:\n",
    "        a=m\n",
    "    counter=counter+1\n",
    "    if math.fabs(f(m)) <0.0005:\n",
    "        break\n",
    "print(\"the root is {}\".format(m))   \n",
    "print(\"the value at the root is {}\".format(f(m)))\n",
    "print(\"the number of steps were {}\".format(counter))"
   ]
  },
  {
   "cell_type": "code",
   "execution_count": null,
   "metadata": {},
   "outputs": [],
   "source": []
  },
  {
   "cell_type": "code",
   "execution_count": 4,
   "metadata": {},
   "outputs": [
    {
     "data": {
      "text/plain": [
       "-3.0"
      ]
     },
     "execution_count": 4,
     "metadata": {},
     "output_type": "execute_result"
    }
   ],
   "source": [
    "-3.0"
   ]
  }
 ],
 "metadata": {
  "kernelspec": {
   "display_name": "Python 3 (ipykernel)",
   "language": "python",
   "name": "python3"
  },
  "language_info": {
   "codemirror_mode": {
    "name": "ipython",
    "version": 3
   },
   "file_extension": ".py",
   "mimetype": "text/x-python",
   "name": "python",
   "nbconvert_exporter": "python",
   "pygments_lexer": "ipython3",
   "version": "3.9.12"
  }
 },
 "nbformat": 4,
 "nbformat_minor": 2
}
