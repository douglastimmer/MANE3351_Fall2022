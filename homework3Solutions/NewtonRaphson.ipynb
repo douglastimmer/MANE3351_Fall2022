{
 "cells": [
  {
   "cell_type": "markdown",
   "metadata": {},
   "source": [
    "# Newton Raphson Method - Homework 3\n"
   ]
  },
  {
   "cell_type": "code",
   "execution_count": 7,
   "metadata": {},
   "outputs": [
    {
     "name": "stdout",
     "output_type": "stream",
     "text": [
      "x=-0.14237804909901008\n",
      "x=0.6403292612925787\n",
      "x=0.8712865633099282\n",
      "x=0.9400329565203281\n",
      "x=0.9483083647075802\n",
      "completed\n"
     ]
    }
   ],
   "source": [
    "import math\n",
    "def f(x):\n",
    "    return 2.0*x*math.cos(x)-(x-2.0)**2\n",
    "def f_prime(x):\n",
    "    return -2.0*x*math.sin(x)+2.0*math.cos(x)-2.0*(x-2.0)\n",
    "N=4\n",
    "tol=0.0005\n",
    "x_0=3.5\n",
    "counter=0\n",
    "for j in range(N+1):\n",
    "    counter=counter+1\n",
    "    #print(\"f({})={}\".format(x_0,f(x_0)))\n",
    "    #print(\"f-prime({})={}\".format(x_0,f_prime(x_0)))\n",
    "    x=x_0-f(x_0)/f_prime(x_0)\n",
    "    print(\"x={}\".format(x))\n",
    "    if math.fabs(x-x_0)<tol:\n",
    "        print(\"the root is {} with value {}, required {} steps\".format(x,f(x),counter))\n",
    "        break\n",
    "    x_0=x\n",
    "print(\"completed\")"
   ]
  },
  {
   "cell_type": "code",
   "execution_count": null,
   "metadata": {},
   "outputs": [],
   "source": []
  }
 ],
 "metadata": {
  "kernelspec": {
   "display_name": "Python 3 (ipykernel)",
   "language": "python",
   "name": "python3"
  },
  "language_info": {
   "codemirror_mode": {
    "name": "ipython",
    "version": 3
   },
   "file_extension": ".py",
   "mimetype": "text/x-python",
   "name": "python",
   "nbconvert_exporter": "python",
   "pygments_lexer": "ipython3",
   "version": "3.9.12"
  }
 },
 "nbformat": 4,
 "nbformat_minor": 2
}
